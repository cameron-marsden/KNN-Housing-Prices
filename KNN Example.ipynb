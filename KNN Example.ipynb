{
 "cells": [
  {
   "cell_type": "markdown",
   "metadata": {},
   "source": [
    "## Data\n",
    "\n",
    "Boston Housing Prices data can be found at [Boston Housing Prices Data Set](http://archive.ics.uci.edu/ml/datasets/Housing). \n"
   ]
  },
  {
   "cell_type": "code",
   "execution_count": 1,
   "metadata": {},
   "outputs": [],
   "source": [
    "#Import libraries\n",
    "import IPython\n",
    "import numpy as np\n",
    "import scipy as sp\n",
    "import pandas as pd\n",
    "import matplotlib\n",
    "import sklearn"
   ]
  },
  {
   "cell_type": "code",
   "execution_count": 2,
   "metadata": {},
   "outputs": [],
   "source": [
    "from sklearn.datasets import load_boston\n",
    "bdata = load_boston()"
   ]
  },
  {
   "cell_type": "markdown",
   "metadata": {},
   "source": [
    "Print basic information about the data"
   ]
  },
  {
   "cell_type": "code",
   "execution_count": 3,
   "metadata": {},
   "outputs": [
    {
     "name": "stdout",
     "output_type": "stream",
     "text": [
      "dict_keys(['target', 'DESCR', 'data', 'feature_names'])\n",
      "['CRIM' 'ZN' 'INDUS' 'CHAS' 'NOX' 'RM' 'AGE' 'DIS' 'RAD' 'TAX' 'PTRATIO'\n",
      " 'B' 'LSTAT']\n",
      "(506, 13)\n",
      "(506,)\n",
      "Boston House Prices dataset\n",
      "\n",
      "Notes\n",
      "------\n",
      "Data Set Characteristics:  \n",
      "\n",
      "    :Number of Instances: 506 \n",
      "\n",
      "    :Number of Attributes: 13 numeric/categorical predictive\n",
      "    \n",
      "    :Median Value (attribute 14) is usually the target\n",
      "\n",
      "    :Attribute Information (in order):\n",
      "        - CRIM     per capita crime rate by town\n",
      "        - ZN       proportion of residential land zoned for lots over 25,000 sq.ft.\n",
      "        - INDUS    proportion of non-retail business acres per town\n",
      "        - CHAS     Charles River dummy variable (= 1 if tract bounds river; 0 otherwise)\n",
      "        - NOX      nitric oxides concentration (parts per 10 million)\n",
      "        - RM       average number of rooms per dwelling\n",
      "        - AGE      proportion of owner-occupied units built prior to 1940\n",
      "        - DIS      weighted distances to five Boston employment centres\n",
      "        - RAD      index of accessibility to radial highways\n",
      "        - TAX      full-value property-tax rate per $10,000\n",
      "        - PTRATIO  pupil-teacher ratio by town\n",
      "        - B        1000(Bk - 0.63)^2 where Bk is the proportion of blacks by town\n",
      "        - LSTAT    % lower status of the population\n",
      "        - MEDV     Median value of owner-occupied homes in $1000's\n",
      "\n",
      "    :Missing Attribute Values: None\n",
      "\n",
      "    :Creator: Harrison, D. and Rubinfeld, D.L.\n",
      "\n",
      "This is a copy of UCI ML housing dataset.\n",
      "http://archive.ics.uci.edu/ml/datasets/Housing\n",
      "\n",
      "\n",
      "This dataset was taken from the StatLib library which is maintained at Carnegie Mellon University.\n",
      "\n",
      "The Boston house-price data of Harrison, D. and Rubinfeld, D.L. 'Hedonic\n",
      "prices and the demand for clean air', J. Environ. Economics & Management,\n",
      "vol.5, 81-102, 1978.   Used in Belsley, Kuh & Welsch, 'Regression diagnostics\n",
      "...', Wiley, 1980.   N.B. Various transformations are used in the table on\n",
      "pages 244-261 of the latter.\n",
      "\n",
      "The Boston house-price data has been used in many machine learning papers that address regression\n",
      "problems.   \n",
      "     \n",
      "**References**\n",
      "\n",
      "   - Belsley, Kuh & Welsch, 'Regression diagnostics: Identifying Influential Data and Sources of Collinearity', Wiley, 1980. 244-261.\n",
      "   - Quinlan,R. (1993). Combining Instance-Based and Model-Based Learning. In Proceedings on the Tenth International Conference of Machine Learning, 236-243, University of Massachusetts, Amherst. Morgan Kaufmann.\n",
      "   - many more! (see http://archive.ics.uci.edu/ml/datasets/Housing)\n",
      "\n"
     ]
    }
   ],
   "source": [
    "print(bdata.keys())\n",
    "print(bdata.feature_names)\n",
    "print(bdata.data.shape)\n",
    "print(bdata.target.shape)\n",
    "print(bdata.DESCR)"
   ]
  },
  {
   "cell_type": "markdown",
   "metadata": {},
   "source": [
    "## Descriptive analysis\n",
    "\n",
    "### Housing Prices"
   ]
  },
  {
   "cell_type": "code",
   "execution_count": 4,
   "metadata": {},
   "outputs": [
    {
     "data": {
      "image/png": "[encoded data removed]",
      "text/plain": [
       "<matplotlib.figure.Figure at 0x1d55174a0b8>"
      ]
     },
     "metadata": {},
     "output_type": "display_data"
    }
   ],
   "source": [
    "# prepare IPython to work with matplotlib and import the library to something convenient\n",
    "%matplotlib inline  \n",
    "import matplotlib.pyplot as plt\n",
    "\n",
    "#Define ax subplot to edit axes\n",
    "ax = plt.subplot(111)\n",
    "\n",
    "#Create histogram with binwidth=1 ($1000)\n",
    "#Set color to green and histtype to one that doesn't include borders\n",
    "ax.hist(bdata.target,bins=np.arange(min(bdata.target),max(bdata.target)+1,1),\n",
    "       facecolor=\"green\", color=\"white\", histtype=\"step\", alpha=0.75, fill=True)\n",
    "\n",
    "#Get rid of axes and tick marks on top and right\n",
    "ax.spines[\"right\"].set_visible(False)\n",
    "ax.spines[\"top\"].set_visible(False)\n",
    "ax.yaxis.set_ticks_position(\"left\")\n",
    "ax.xaxis.set_ticks_position(\"bottom\")\n",
    "\n",
    "#Add title, xlabels, and ylabels\n",
    "plt.title(\"Median Housing Prices in Boston Suburbs\")\n",
    "plt.xlabel(\"Median Owner-Occupied Home Value (by $1000)\")\n",
    "plt.ylabel(\"Frequency\")\n",
    "\n",
    "#Show plot\n",
    "plt.show()"
   ]
  },
  {
   "cell_type": "markdown",
   "metadata": {},
   "source": [
    "### Housing Prices vs. Crime\n",
    "\n",
    "Use matplotlib to create a scatter plot that shows the relationship between the median value of the home (y-axis) and the per-capita crime rate (x-axis).  Properly label your axes, and make sure that your graphic looks polished and professional.\n"
   ]
  },
  {
   "cell_type": "code",
   "execution_count": 5,
   "metadata": {},
   "outputs": [],
   "source": [
    "#Create pd dataframe for data with the correct types of data for each variable\n",
    "boston_df = pd.DataFrame(bdata.data, columns=bdata.feature_names)\n",
    "boston_df[\"MEDV\"] = pd.DataFrame(bdata.target, columns=[\"MEDV\"])\n",
    "boston_df[\"RAD\"] = boston_df[\"RAD\"].astype(int)\n",
    "boston_df[\"CHAS\"] = boston_df[\"CHAS\"].astype(object)"
   ]
  },
  {
   "cell_type": "code",
   "execution_count": 6,
   "metadata": {},
   "outputs": [
    {
     "data": {
      "image/png": "[encoded data removed]",
      "text/plain": [
       "<matplotlib.figure.Figure at 0x1d55172f630>"
      ]
     },
     "metadata": {},
     "output_type": "display_data"
    }
   ],
   "source": [
    "#Create scatterplot of MEDV vs. CRIM\n",
    "ax1 = plt.subplot(111)\n",
    "ax1.plot(boston_df.CRIM, boston_df.MEDV, \"ko\", markersize=1.5)\n",
    "ax1.set_ybound(0,51)\n",
    "\n",
    "#Get rid of axes and tick marks on top and right\n",
    "ax1.spines[\"right\"].set_visible(False)\n",
    "ax1.spines[\"top\"].set_visible(False)\n",
    "ax1.yaxis.set_ticks_position(\"left\")\n",
    "ax1.xaxis.set_ticks_position(\"bottom\")\n",
    "\n",
    "#Add title, xlabels, and ylabels\n",
    "plt.title(\"Median Housing Prices by Crime Rate\")\n",
    "plt.xlabel(\"Crime Rate per capita\")\n",
    "plt.ylabel(\"Median Home Value (in $1000)\")\n",
    "\n",
    "#Show Plot\n",
    "plt.show()"
   ]
  },
  {
   "cell_type": "markdown",
   "metadata": {},
   "source": [
    "### Lower Status Population, Crime Rates, and Median Home Value"
   ]
  },
  {
   "cell_type": "code",
   "execution_count": 7,
   "metadata": {},
   "outputs": [
    {
     "data": {
      "image/png": "[encoded data removed]",
      "text/plain": [
       "<matplotlib.figure.Figure at 0x1d5535e95f8>"
      ]
     },
     "metadata": {},
     "output_type": "display_data"
    }
   ],
   "source": [
    "#Plot Median Household Income by Distance to Employment Center\n",
    "#Each point's size will be determined by proportion of buildings built before 1940\n",
    "\n",
    "#Create scatterplot of MEDV vs. LSTAT with point size determined by crime rate\n",
    "ax2 = plt.subplot(111)\n",
    "ax2.scatter(boston_df.LSTAT, boston_df.MEDV, s=boston_df.CRIM+10, alpha=0.4)\n",
    "ax2.set_ybound(0,52)\n",
    "ax2.set_xbound(0,40)\n",
    "\n",
    "#Get rid of axes and tick marks on top and right\n",
    "ax2.spines[\"right\"].set_visible(False)\n",
    "ax2.spines[\"top\"].set_visible(False)\n",
    "ax2.yaxis.set_ticks_position(\"left\")\n",
    "ax2.xaxis.set_ticks_position(\"bottom\")\n",
    "\n",
    "plt.title(\"Median Housing Prices by Poverty and Crime Rates\")\n",
    "plt.xlabel(\"Percentage of Lower Status Population \\n (Larger points indicate higher crime rates)\")\n",
    "plt.ylabel(\"Median Home Value (in $1000)\")\n",
    "\n",
    "plt.show()"
   ]
  },
  {
   "cell_type": "markdown",
   "metadata": {},
   "source": [
    "This plot shows the strong, negative, curved corrleation between the percentage of neighborhoods' lower status population and median home value. In addition, the size of each point corresponds to each neighborhood's crime rate. As expected from problem 1.2, larger points cluster around neighborhoods with low median home values. Furthermore, large points don't appear until lower status population reaches approximately 10%. In other words, above-average crime rates appear to be correlated with neighborhoods with at least 10% of the population classified as \"lower status\" in addition to neighborhoods with lower median home values (explained in problem 1.2)."
   ]
  },
  {
   "cell_type": "markdown",
   "metadata": {},
   "source": [
    "## Experimental Setup\n",
    "\n",
    "The goal of the next few sections is to design an experiment to predict the median home value for an instance in the data."
   ]
  },
  {
   "cell_type": "code",
   "execution_count": 8,
   "metadata": {},
   "outputs": [
    {
     "name": "stdout",
     "output_type": "stream",
     "text": [
      "Example: RMSE[(2,2,3),(0,2,6)] = 2.08\n"
     ]
    }
   ],
   "source": [
    "#Function for root mean squared error\n",
    "\n",
    "\"\"\"\n",
    "Function\n",
    "--------\n",
    "compute_rmse\n",
    "\n",
    "Given two arrays, one of actual values and one of predicted values,\n",
    "compute the Roote Mean Squared Error\n",
    "\n",
    "Parameters\n",
    "----------\n",
    "predictions : array\n",
    "    Array of numerical values corresponding to predictions for each of the N observations\n",
    "\n",
    "yvalues : array\n",
    "    Array of numerical values corresponding to the actual values for each of the N observations\n",
    "\n",
    "Returns\n",
    "-------\n",
    "rmse : float\n",
    "    Root Mean Squared Error of the prediction\n",
    "\n",
    "Example\n",
    "-------\n",
    "print(compute_rmse((2,2,3),(0,2,6)))\n",
    "2.08\n",
    "\"\"\"\n",
    "def compute_rmse(predictions, yvalues):\n",
    "    resid = np.subtract(predictions,yvalues)\n",
    "    squared_resid = resid**2\n",
    "    n = squared_resid.size\n",
    "    sum_squared_resid = np.sum(squared_resid)\n",
    "    rmse = np.sqrt(sum_squared_resid/n)\n",
    "    return rmse\n",
    "print(\"Example: RMSE[(2,2,3),(0,2,6)] = %.2f\" % (compute_rmse((2,2,3),(0,2,6))))"
   ]
  },
  {
   "cell_type": "markdown",
   "metadata": {},
   "source": [
    "### Train and Test Split\n",
    "\n",
    "Randomly select 66% of the data and put this in a training dataset. Place the remaining 34% in a testing dataset.\n"
   ]
  },
  {
   "cell_type": "code",
   "execution_count": 9,
   "metadata": {},
   "outputs": [],
   "source": [
    "#Splitting data using train_test_split. Use random state to repeat analysis.\n",
    "from sklearn.cross_validation import train_test_split\n",
    "\n",
    "bdata_train, bdata_test = train_test_split(boston_df, test_size=0.34, random_state=200)"
   ]
  },
  {
   "cell_type": "markdown",
   "metadata": {},
   "source": [
    "### Very basic baseline prediction for comparison\n",
    "\n",
    "For every observation x_i, predict the median home value as the average (mean) of the median values for all instances in the training set.  Compute the RMSE on the training and testing sets.  "
   ]
  },
  {
   "cell_type": "code",
   "execution_count": 10,
   "metadata": {},
   "outputs": [
    {
     "name": "stdout",
     "output_type": "stream",
     "text": [
      "Training RMSE: 8.6133\n",
      "Testing RMSE: 10.2023\n"
     ]
    }
   ],
   "source": [
    "#Poor Model function\n",
    "def poor_model(median_values):\n",
    "#Calculate the average median home value of training set\n",
    "    pred_value = np.mean(median_values)\n",
    "#Use this average as prediction for each element\n",
    "    pred_array = np.asarray([pred_value]*median_values.size)\n",
    "    return(pred_array)\n",
    "\n",
    "#Find RMSE for training set\n",
    "poor_model_pred_train = poor_model(bdata_train.MEDV)\n",
    "poor_model_rmse_train = compute_rmse(poor_model_pred_train, bdata_train.MEDV)\n",
    "\n",
    "#Find RMSE for testing set\n",
    "poor_model_pred_test = poor_model(bdata_test.MEDV)\n",
    "poor_model_rmse_test = compute_rmse(poor_model_pred_test, bdata_test.MEDV)\n",
    "\n",
    "#Print the results for each\n",
    "print(\"Training RMSE: %.4f\" % poor_model_rmse_train)\n",
    "print(\"Testing RMSE: %.4f\" % poor_model_rmse_test)"
   ]
  },
  {
   "cell_type": "markdown",
   "metadata": {},
   "source": [
    "The testing RMSE is larger than the training RMSE (10.2023 vs. 8.6133, respectively). This model uses the average of median home values as its prediction for every datapoint. As we saw in the exploratory analysis, the actual median home values vary from \\$5,000 to \\$50,000, so a uniform prediction isn't going to perform well.\n",
    "\n",
    "Since we are only using a simple mean for our predictions, the testing set is likely to perform worse than the training set since it has half the amount of data (i.e., $\\frac{n_{testing}}{n_{training}} \\approx \\frac{1}{2}$). If we use this method, large errors (e.g., \\$50,000 houses) will weigh more heavily on the smaller testing set's RMSE. "
   ]
  },
  {
   "cell_type": "markdown",
   "metadata": {},
   "source": [
    "---\n",
    "\n",
    "## Nearest Neighbors\n"
   ]
  },
  {
   "cell_type": "markdown",
   "metadata": {},
   "source": [
    "### Nearest Neighbors: Distance function\n",
    "\n",
    "Create L-norm distance metric to measure the distance and similarity between two observations."
   ]
  },
  {
   "cell_type": "code",
   "execution_count": 11,
   "metadata": {},
   "outputs": [
    {
     "name": "stdout",
     "output_type": "stream",
     "text": [
      "Example: Sets (3,4) and (6,8) with L=2 results in the L-Norm Distance 5.0\n"
     ]
    }
   ],
   "source": [
    "\"\"\"\n",
    "Function\n",
    "--------\n",
    "distance\n",
    "\n",
    "Given two instances and a value for L, return the L-Norm distance between them\n",
    "\n",
    "Parameters\n",
    "----------\n",
    "x1, x2 : array\n",
    "    Array of numerical values corresponding to predictions for each of the N observations\n",
    "\n",
    "L: int\n",
    "    Value of L to use in computing distances\n",
    "\n",
    "Returns\n",
    "-------\n",
    "dist : float\n",
    "    The L-norm distance between instances\n",
    "\n",
    "Example\n",
    "-------\n",
    "print(distance((3,4),(6,8),2))\n",
    "5\n",
    "\n",
    "\"\"\"\n",
    "\n",
    "#Euclidean distance is measured by the sum of sqrt((x1-x2)^2))\n",
    "#Create function that outputs this distance for given values of x1, x2, and L\n",
    "def distance(x1, x2, L):\n",
    "    sum_dist = 0\n",
    "    for k in range(L):\n",
    "        sum_dist += (x1[k] - x2[k])**2\n",
    "    dist = sum_dist**(1/2)\n",
    "    return dist\n",
    "\n",
    "#Example\n",
    "print(\"Example: Sets (3,4) and (6,8) with L=2 results in the L-Norm Distance %.1f\" % (distance((3,4),(6,8),2)))"
   ]
  },
  {
   "cell_type": "markdown",
   "metadata": {},
   "source": [
    "### Nearest Neighbor algorithm\n",
    "\n",
    "The following implements a basic nearest neighbor algorithm from scratch."
   ]
  },
  {
   "cell_type": "code",
   "execution_count": 12,
   "metadata": {},
   "outputs": [
    {
     "name": "stdout",
     "output_type": "stream",
     "text": [
      "Time taken: 0.21 seconds\n",
      "RMSE for K=1 nearest neighbor predicted MEDV response using CRIM and RM predictors: 7.8237\n"
     ]
    }
   ],
   "source": [
    "\"\"\"\n",
    "Function\n",
    "--------\n",
    "nneighbor\n",
    "knn       ***IMPORTANT NOTE: I COMMENTED OUT THE nneighbor FUNCTION.\n",
    "             INSTEAD, I CREATED A ROBUST FUNCTION knn THAT USES K=1\n",
    "             AS THE DEFAULT. I FIGURED IT WOULD BE BETTER TO USE knn\n",
    "             THROUGHOUT INSTEAD OF JUST PARTS 3.6 AND 3.7.***\n",
    "\n",
    "Given training and testing datasets:\n",
    "predict response variable using (k) nearest neighbors methods on training data.\n",
    "Compare the prediction with the actual value in the testing data. \n",
    "Repeat for each testing instance.\n",
    "Report the RMSE.\n",
    "\n",
    "Parameters\n",
    "----------\n",
    "testing_data, training_data : array\n",
    "    Array of explatatory variables and one response variable (which must be listed last)\n",
    "    One array for testing data, one for training data (with matching variable names)\n",
    "\n",
    "L: int\n",
    "    Value of L to use in computing distances\n",
    "    \n",
    "K: (optional) int\n",
    "    Number of neighbors to use for predicting MEDV. Default is K=1.\n",
    "\n",
    "Returns\n",
    "-------\n",
    "rmse : float\n",
    "    Root Mean Squared Error of the prediction\n",
    "\n",
    "Example\n",
    "-------\n",
    "knn(test_set, train_set, length)\n",
    "\n",
    "\"\"\"\n",
    "\n",
    "#Import time in order to display time for calculation\n",
    "import time\n",
    "\n",
    "\n",
    "def knn(testing_data, training_data, L, K=1):\n",
    "    #Begin calculation timer\n",
    "    start_time = time.time()\n",
    "    \n",
    "    #Define empty arrays for: \n",
    "    #(1) The model predicted median home values for each testing instance  \n",
    "    #(2) The actual median home values for each testing instance   \n",
    "    predict_medv = []\n",
    "    actual_medv = []\n",
    "    \n",
    "    #Loop over all testing instances\n",
    "    for i in range(len(testing_data)):\n",
    "        \n",
    "        #Define current_test as the current iteration's testing values for each feature/variable\n",
    "        current_test = testing_data[i]\n",
    "        \n",
    "        #Create empty array that will contain euclidean distances between current testing instance and every training instance\n",
    "        distances = []\n",
    "        \n",
    "        #Loop the current testing instance over all training instances\n",
    "        for j in range(len(training_data)):\n",
    "            \n",
    "            #Define current_train as the current iteration's training values for each feature/variable\n",
    "            current_train = training_data[j]\n",
    "            \n",
    "            #Calculate distance between the jth training instance for testing instance i and append the following to the distance array:\n",
    "            #(1) The current training instances values for explanatory and response features/variables\n",
    "            #(2) The euclidean distance\n",
    "            current_dist = distance(current_train, current_test, L)\n",
    "            distances.append((current_train, current_dist))\n",
    "        \n",
    "        #After finding each distance between the current testing instance and all training instances,\n",
    "        #Sort the distances array by euclidean distances (ascending order)\n",
    "        distances.sort(key=lambda x: x[1])\n",
    "        \n",
    "        #Create empty array that will contain the training response variable (Lth feature is MEDV in this case)\n",
    "        #Iterate over given K (default is K=1) and add the training response variable for the first K values in sorted distance array (i.e., K closest neighbors)\n",
    "        k_nearest_dist = []\n",
    "        for k in range(K):\n",
    "            k_nearest_dist.append(distances[k][0][L])\n",
    "        \n",
    "        #Calculate the mean of the K closest neighbors as the predicted response of the current test instance.\n",
    "        k_mean_dist = np.mean(k_nearest_dist)\n",
    "        \n",
    "        #Append the prediction and actual response values for the current test instance\n",
    "        predict_medv.append(k_mean_dist)\n",
    "        actual_medv.append(current_test[L])\n",
    "    \n",
    "    #After completing the loop for each testing instance, calculate the RMSE using the predicted and actual arrays\n",
    "    rmse = compute_rmse(predict_medv,actual_medv)\n",
    "    \n",
    "    #Print the time taken to run knn function\n",
    "    print(\"Time taken: \" + str(round(time.time() - start_time,2)) + \" seconds\")\n",
    "    return rmse\n",
    "\n",
    "#For this example, we are going to use CRIM and RM to predict MEDV\n",
    "test_set = np.asarray(bdata_test[[\"CRIM\",\"RM\",\"MEDV\"]])\n",
    "train_set = np.asarray(bdata_train[[\"CRIM\",\"RM\",\"MEDV\"]])\n",
    "length = 2\n",
    "\n",
    "print(\"RMSE for K=1 nearest neighbor predicted MEDV response using CRIM and RM predictors: %.4f\" % (knn(test_set, train_set, length)))"
   ]
  },
  {
   "cell_type": "markdown",
   "metadata": {},
   "source": [
    "### Re-run with Normalization\n",
    "\n",
    "The following creates a generic normalization function that takes as input an array of values for a given feature, and returns the normalized array."
   ]
  },
  {
   "cell_type": "code",
   "execution_count": 13,
   "metadata": {},
   "outputs": [
    {
     "name": "stdout",
     "output_type": "stream",
     "text": [
      "Time taken: 0.22 seconds\n",
      "RMSE for K=1 nearest neighbor predicted MEDV response using normalized CRIM and RM predictors: 9.6932\n"
     ]
    }
   ],
   "source": [
    "\"\"\"\n",
    "Function\n",
    "--------\n",
    "normalize\n",
    "\n",
    "Given raw data, return the standard normal values for each predicting feature (i.e., all but the last given variable/feature)\n",
    "\n",
    "Parameters\n",
    "----------\n",
    "raw_data : array\n",
    "    Array of explatatory variables and one response variable (which must be listed last)\n",
    "\n",
    "Returns\n",
    "-------\n",
    "normalized_data : array\n",
    "    Array of normalized predicting features and untransformed response feature\n",
    "\n",
    "Example\n",
    "-------\n",
    "norm_test_set_1 = normalize(test_set) (used below)\n",
    "\n",
    "\"\"\"\n",
    "\n",
    "def normalize(raw_data):\n",
    "    n_instances = len(raw_data)\n",
    "    n_features = raw_data.shape[1]\n",
    "    normalized_data = np.zeros(shape=(n_instances,n_features))\n",
    "    normalized_data[:,n_features-1] = raw_data[:,n_features-1]\n",
    "    for i in range(n_features-1):\n",
    "        current_feature_mean = np.mean(raw_data[:,i])\n",
    "        current_feature_sd = np.std(raw_data[:,i])\n",
    "        normalized_data[:,i] = (raw_data[:,i]-current_feature_mean)/current_feature_sd        \n",
    "    return normalized_data\n",
    "\n",
    "norm_test_set_1 = normalize(test_set)\n",
    "norm_train_set_1 = normalize(train_set)\n",
    "length = 2\n",
    "\n",
    "print(\"RMSE for K=1 nearest neighbor predicted MEDV response using normalized CRIM and RM predictors: %.4f\" % (knn(norm_test_set_1, norm_train_set_1, length)))"
   ]
  },
  {
   "cell_type": "markdown",
   "metadata": {},
   "source": [
    "After normalizing the predicting features, our model reports a larger RMSE compared to the previous, untransformed features. Without normalizing, our goodness-of-fit measure, RMSE, is overly optimistic."
   ]
  },
  {
   "cell_type": "markdown",
   "metadata": {},
   "source": [
    "### Optimization\n",
    "\n",
    "Increase performance of nearest neighbor algorithm by adding relevant features, and by using different values of L in the distance function.  "
   ]
  },
  {
   "cell_type": "code",
   "execution_count": 14,
   "metadata": {},
   "outputs": [
    {
     "name": "stdout",
     "output_type": "stream",
     "text": [
      "Time taken: 0.21 seconds\n",
      "RMSE for predicted MEDV response using L=2 normalized DIS and LSTAT predictors: 6.7820\n"
     ]
    }
   ],
   "source": [
    "#different two features (DIS, LSTAT)\n",
    "norm_test_set_2 = normalize(np.asarray(bdata_test[[\"DIS\",\"LSTAT\",\"MEDV\"]]))\n",
    "norm_train_set_2 = normalize(np.asarray(bdata_train[[\"DIS\",\"LSTAT\",\"MEDV\"]]))\n",
    "length = 2\n",
    "\n",
    "print(\"RMSE for predicted MEDV response using L=2 normalized DIS and LSTAT predictors: %.4f\" % (knn(norm_test_set_2, norm_train_set_2, length)))"
   ]
  },
  {
   "cell_type": "code",
   "execution_count": 15,
   "metadata": {},
   "outputs": [
    {
     "name": "stdout",
     "output_type": "stream",
     "text": [
      "Time taken: 0.27 seconds\n",
      "RMSE for predicted MEDV response using L=3 normalized RM, DIS and LSTAT predictors: 6.2181\n"
     ]
    }
   ],
   "source": [
    "#three features (RM, DIS, LSTAT)\n",
    "norm_test_set_3 = normalize(np.asarray(bdata_test[[\"RM\",\"DIS\",\"LSTAT\",\"MEDV\"]]))\n",
    "norm_train_set_3 = normalize(np.asarray(bdata_train[[\"RM\",\"DIS\",\"LSTAT\",\"MEDV\"]]))\n",
    "length = 3\n",
    "\n",
    "print(\"RMSE for predicted MEDV response using L=3 normalized RM, DIS and LSTAT predictors: %.4f\" % (knn(norm_test_set_3, norm_train_set_3, length)))"
   ]
  },
  {
   "cell_type": "code",
   "execution_count": 16,
   "metadata": {},
   "outputs": [
    {
     "name": "stdout",
     "output_type": "stream",
     "text": [
      "Time taken: 0.34 seconds\n",
      "RMSE for predicted MEDV response using L=4 normalized RM, DIS, PTRATIO, and LSTAT predictors: 5.3535\n"
     ]
    }
   ],
   "source": [
    "#four features (RM, DIS, PTRATIO, LSTAT)\n",
    "norm_test_set_4 = normalize(np.asarray(bdata_test[[\"RM\",\"DIS\",\"PTRATIO\",\"LSTAT\",\"MEDV\"]]))\n",
    "norm_train_set_4 = normalize(np.asarray(bdata_train[[\"RM\",\"DIS\",\"PTRATIO\",\"LSTAT\",\"MEDV\"]]))\n",
    "length = 4\n",
    "\n",
    "print(\"RMSE for predicted MEDV response using L=4 normalized RM, DIS, PTRATIO, and LSTAT predictors: %.4f\" % (knn(norm_test_set_4, norm_train_set_4, length)))"
   ]
  },
  {
   "cell_type": "code",
   "execution_count": 17,
   "metadata": {},
   "outputs": [
    {
     "name": "stdout",
     "output_type": "stream",
     "text": [
      "Time taken: 0.36 seconds\n",
      "RMSE for predicted MEDV response using L=5 normalized CRIM, RM, DIS, PTRATIO, and LSTAT predictors: 5.4144\n"
     ]
    }
   ],
   "source": [
    "#five features (CRIM, RM, DIS, PTRATIO, LSTAT)\n",
    "norm_test_set_5 = normalize(np.asarray(bdata_test[[\"CRIM\",\"RM\",\"DIS\",\"PTRATIO\",\"LSTAT\",\"MEDV\"]]))\n",
    "norm_train_set_5 = normalize(np.asarray(bdata_train[[\"CRIM\",\"RM\",\"DIS\",\"PTRATIO\",\"LSTAT\",\"MEDV\"]]))\n",
    "length = 5\n",
    "\n",
    "print(\"RMSE for predicted MEDV response using L=5 normalized CRIM, RM, DIS, PTRATIO, and LSTAT predictors: %.4f\" % (knn(norm_test_set_5, norm_train_set_5, length)))"
   ]
  },
  {
   "cell_type": "code",
   "execution_count": 18,
   "metadata": {},
   "outputs": [
    {
     "name": "stdout",
     "output_type": "stream",
     "text": [
      "Time taken: 0.43 seconds\n",
      "RMSE for predicted MEDV response using L=6 normalized CRIM, RM, DIS, PTRATIO, TAX, and LSTAT predictors: 5.3246\n"
     ]
    }
   ],
   "source": [
    "#six features (CRIM, RM, DIS, PTRATIO, TAX, LSTAT)\n",
    "norm_test_set_6 = normalize(np.asarray(bdata_test[[\"CRIM\",\"RM\",\"DIS\",\"PTRATIO\",\"TAX\",\"LSTAT\",\"MEDV\"]]))\n",
    "norm_train_set_6 = normalize(np.asarray(bdata_train[[\"CRIM\",\"RM\",\"DIS\",\"PTRATIO\",\"TAX\",\"LSTAT\",\"MEDV\"]]))\n",
    "length = 6\n",
    "\n",
    "print(\"RMSE for predicted MEDV response using L=6 normalized CRIM, RM, DIS, PTRATIO, TAX, and LSTAT predictors: %.4f\" % (knn(norm_test_set_6, norm_train_set_6, length)))"
   ]
  },
  {
   "cell_type": "code",
   "execution_count": 19,
   "metadata": {},
   "outputs": [
    {
     "name": "stdout",
     "output_type": "stream",
     "text": [
      "Time taken: 0.47 seconds\n",
      "RMSE for predicted MEDV response using L=7 normalized CRIM, NOX, RM, DIS, PTRATIO, TAX, and LSTAT predictors: 5.1692\n"
     ]
    }
   ],
   "source": [
    "#seven features (CRIM, NOX, RM, DIS, PTRATIO, TAX, LSTAT)\n",
    "norm_test_set_7 = normalize(np.asarray(bdata_test[[\"CRIM\",\"NOX\",\"RM\",\"DIS\",\"PTRATIO\",\"TAX\",\"LSTAT\",\"MEDV\"]]))\n",
    "norm_train_set_7 = normalize(np.asarray(bdata_train[[\"CRIM\",\"NOX\",\"RM\",\"DIS\",\"PTRATIO\",\"TAX\",\"LSTAT\",\"MEDV\"]]))\n",
    "length = 7\n",
    "\n",
    "print(\"RMSE for predicted MEDV response using L=7 normalized CRIM, NOX, RM, DIS, PTRATIO, TAX, and LSTAT predictors: %.4f\" % (knn(norm_test_set_7, norm_train_set_7, length)))"
   ]
  },
  {
   "cell_type": "markdown",
   "metadata": {},
   "source": [
    "Starting with L=2, I predicted MEDV using DIS and LSTAT. I then fit one model for L=3,4,5,6,7 by adding one more predicting feature to the previous model. (Note: Each model used normalized predicting features.)\n",
    "\n",
    "My chosen predictors DIS and LSTAT for L=2 actually reported a much lower RMSE than the original CRIM and RM. I suspected that LSTAT was going to be a very good predictor both through (1) Intuition (i.e., neighborhoods with lower average status likely have lower home values), and (2) the strong relationship shown in my chosen plot for problem 1.3.\n",
    "\n",
    "Adding RM (L=3) and then PTRATIO (L=4) showed even more improvement in the reported RMSE. From that point forward, adding variables only slightly reduced RMSE—pointing to possible overfitting and definite overcomplication. "
   ]
  },
  {
   "cell_type": "markdown",
   "metadata": {},
   "source": [
    "### 3.5 Cross-Validation\n",
    "\n",
    "Use 10-fold cross-validation and report the average RMSE for Nearest Neighbors using Euclidean distance. Report the average RMSE across the 10 iterations."
   ]
  },
  {
   "cell_type": "code",
   "execution_count": 20,
   "metadata": {},
   "outputs": [
    {
     "name": "stdout",
     "output_type": "stream",
     "text": [
      "Time taken: 0.08 seconds\n",
      "Time taken: 0.09 seconds\n",
      "Time taken: 0.08 seconds\n",
      "Time taken: 0.09 seconds\n",
      "Time taken: 0.09 seconds\n",
      "Time taken: 0.09 seconds\n",
      "Time taken: 0.08 seconds\n",
      "Time taken: 0.09 seconds\n",
      "Time taken: 0.08 seconds\n",
      "Time taken: 0.08 seconds\n",
      "Time taken for all folds: 0.98 seconds\n",
      "Average RMSE for ten-fold cross-validation: 7.0478\n"
     ]
    }
   ],
   "source": [
    "\"\"\"\n",
    "Function\n",
    "--------\n",
    "my_kfolds\n",
    "\n",
    "Given the full dataframe, number of folds, features of interest (response variable last), and number of neighbors for prediction,\n",
    "return the average rmse from each fold using cross-validation.\n",
    "\n",
    "Parameters\n",
    "----------\n",
    "full_df : pandas dataframe\n",
    "    Dataframe containing all columns and rows\n",
    "    \n",
    "nfolds : int\n",
    "    Desired number of folds for cross-validation\n",
    "\n",
    "features : string\n",
    "    List of features/variables to use in the model with the response feature/variable listed last.\n",
    "    Must be in the form [\"explanatory_feature_1\",\"explanatory_feature_2\",...,\"explanatory_feature_n\",\"response_feature\"]\n",
    "    \n",
    "K : (optional) int\n",
    "    Number of nearest neighbors to use for predictions (default is K=1)\n",
    "\n",
    "Returns\n",
    "-------\n",
    "avg_rmse : float\n",
    "    The mean RMSE calculated over each fold\n",
    "\n",
    "Example\n",
    "-------\n",
    "nn_tenfolds = my_kfolds(boston_df, 10, [\"CRIM\",\"RM\",\"MEDV\"]) (used below)\n",
    "\n",
    "\"\"\"\n",
    "\n",
    "#Import random and math for cross-validation function\n",
    "import random, math\n",
    "\n",
    "#Define my_kfolds function\n",
    "def my_kfolds(full_df, nfolds, features, K=1):\n",
    "    \n",
    "    #Start timer for running the function\n",
    "    my_start_time = time.time()\n",
    "    \n",
    "    #Define n_instances as the number of rows within the given full dataframe\n",
    "    n_instances = full_df.shape[0]\n",
    "    \n",
    "    #Find the maximum number of instances that each group can have while maintaining equal-sized folds constraint\n",
    "    min_per_group = math.floor(n_instances/nfolds)\n",
    "    \n",
    "    #Find the remaining number of instances that can't be evenly split (i.e., one for each fold).\n",
    "    remainder = n_instances - nfolds*min_per_group\n",
    "    \n",
    "    #Create a listed sequence from 0 to nfolds-1. \n",
    "    #This sequence will be the \"factors\" used to divide the full dataset into equal-sized folds\n",
    "    fold_seq = list(range(nfolds))\n",
    "    \n",
    "    #Create an empty array that will end up being the \"GROUP\" column appended to the full dataframe\n",
    "    fold_group = []\n",
    "    \n",
    "    #Loop over the maximum number of times we can add each value of the fold_seq to the dataset rows without leaving any value out\n",
    "    for i in range(min_per_group):\n",
    "        #For each iteration, randomly sample all values within fold_seq. Append each shuffled iteration's sequence to fold_group.\n",
    "        #(Note: This method performs random.shuffle while being able to assign the shuffled sequence to a variable.)\n",
    "        new_set = random.sample(fold_seq,  nfolds)\n",
    "        fold_group.extend(new_set)\n",
    "    \n",
    "    #If the dataset doesn't allow perfectly equal-sized folds, randomly assign the remainder--maximum of one for any individual fold. \n",
    "    remainder_group = random.sample(fold_seq, remainder)\n",
    "    \n",
    "    #Add the remainder_group to fold_group to create a vector of randomly assigned folds/groups for each row in the full dataset.\n",
    "    fold_group.extend(remainder_group)\n",
    "    \n",
    "    #Add fold_group to the full dataset with column name \"GROUP\"\n",
    "    full_df[\"GROUP\"] = fold_group\n",
    "    \n",
    "    #Create an empty dictionary called \"subsets\" that will contain the dataframe subsets for each fold\n",
    "    subsets = {}\n",
    "    \n",
    "    #Iterate over nfolds and assign each dataframe instance to its subset/fold by its randomly assigned \"GROUP\" value.\n",
    "    for i in range(nfolds):\n",
    "        subsets[i] = full_df[full_df[\"GROUP\"]==i]\n",
    "    \n",
    "    #L = number of explanatory features, so I assign length for use in the knn/nneighbor functions.    \n",
    "    length = len(features) - 1\n",
    "    \n",
    "    #Create an array that will contain the RMSE calculated for each cross-validated fold.\n",
    "    all_rmse = []\n",
    "    \n",
    "    #Perform cross-validation by iterating over each fold\n",
    "    for i in range(nfolds):\n",
    "        \n",
    "        #Define the testing set as the current iteration's normalized fold/subset (as an array)\n",
    "        current_test = normalize(np.asarray(subsets[i][features]))\n",
    "        \n",
    "        #Initialize an empty dataframe for the current iteration's training subset\n",
    "        #Ensure the dataframe has the correct number of columns to match the given features\n",
    "        current_train_df = pd.DataFrame(columns=features)\n",
    "        \n",
    "        #Iterate over all folds\n",
    "        for j in range(nfolds):\n",
    "            \n",
    "            #Concatenate each subset's dataframe for the given features EXCEPT for the current iteration's testing subset\n",
    "            if j != i:\n",
    "                current_train_df = pd.concat([current_train_df, subsets[j][features]])\n",
    "            else:\n",
    "                continue\n",
    "        \n",
    "        #Define the training set as the combination of all normalized (as array) folds--excluding the current testing fold.\n",
    "        current_train = normalize(np.asarray(current_train_df))\n",
    "        \n",
    "        #Calculate the RMSE for the current iteration's testing set using knn (previously nneighbor) to model the training set.\n",
    "        #Append this RMSE value to the all_rmse array\n",
    "        all_rmse.append(knn(current_test, current_train, length, K))\n",
    "        \n",
    "        #Before implementing knn, I used the following function to calculate each rmse using nneighbor function\n",
    "        #all_rmse.append(nneighbor(current_test, current_train, length))\n",
    "        \n",
    "    #After completing each fold's iteration, calculate and return the average RMSE over all folds.\n",
    "    avg_rmse = np.mean(all_rmse)\n",
    "    \n",
    "    #Report the Total time taken to perform cross-validation\n",
    "    print(\"Time taken for all folds: \" + str(round(time.time() - my_start_time,2)) + \" seconds\")\n",
    "    return(avg_rmse)\n",
    "\n",
    "#Run my_kfolds function for the full boston housing dataframe using 10-fold cross-validation\n",
    "#Use CRIM and RM as the predicting features for the response feature MEDV. (K=1 default implied for this part)\n",
    "nn_tenfolds = my_kfolds(boston_df, 10, [\"CRIM\",\"RM\",\"MEDV\"])\n",
    "print(\"Average RMSE for ten-fold cross-validation: %.4f\" % (nn_tenfolds))"
   ]
  },
  {
   "cell_type": "markdown",
   "metadata": {},
   "source": [
    "### K-Nearest Neighbors Algorithm\n",
    "\n",
    "Implement the K-Nearest Neighbors algorithm.  Using 10-fold cross validation, report the RMSE for K=3 and the running time of the algorithm."
   ]
  },
  {
   "cell_type": "code",
   "execution_count": 21,
   "metadata": {},
   "outputs": [
    {
     "name": "stdout",
     "output_type": "stream",
     "text": [
      "Time taken: 0.11 seconds\n",
      "Time taken: 0.1 seconds\n",
      "Time taken: 0.09 seconds\n",
      "Time taken: 0.09 seconds\n",
      "Time taken: 0.08 seconds\n",
      "Time taken: 0.08 seconds\n",
      "Time taken: 0.09 seconds\n",
      "Time taken: 0.08 seconds\n",
      "Time taken: 0.09 seconds\n",
      "Time taken: 0.1 seconds\n",
      "Time taken for all folds: 1.05 seconds\n",
      "RMSE of k-nearest neighbors with K=3: 5.9698\n"
     ]
    }
   ],
   "source": [
    "\"\"\"\n",
    "Function\n",
    "--------\n",
    "knn       ***IMPORTANT NOTE: AFTER WRITING THIS FUNCTION, I DECIDED TO PLACE\n",
    "             THE FUNCTION IN PART 3.2 AND COMMENT OUT nneighbor. \n",
    "             REGARDLESS, I HAVE COPIED THE FUNCTION NOTES HERE AS WELL.\n",
    "             \n",
    "             IN ADDITION, I COMMENTED OUT THE FUNCTION IN THIS CELL SINCE\n",
    "             I ALREADY RAN IT IN THE CELL FOR PROBLEM 3.2***\n",
    "\n",
    "Given training and testing datasets:\n",
    "predict response variable using (k) nearest neighbors methods on training data.\n",
    "Compare the prediction with the actual value in the testing data. \n",
    "Repeat for each testing instance.\n",
    "Report the RMSE.\n",
    "\n",
    "Parameters\n",
    "----------\n",
    "testing_data, training_data : array\n",
    "    Array of explatatory variables and one response variable (which must be listed last)\n",
    "    One array for testing data, one for training data (with matching variable names)\n",
    "\n",
    "L: int\n",
    "    Value of L to use in computing distances\n",
    "    \n",
    "K: (optional) int\n",
    "    Number of neighbors to use for predicting MEDV. Default is K=1.\n",
    "\n",
    "Returns\n",
    "-------\n",
    "rmse : float\n",
    "    Root Mean Squared Error of the prediction\n",
    "\n",
    "Example\n",
    "-------\n",
    "nn_k_three = my_kfolds(boston_df, 10, [\"CRIM\",\"RM\",\"MEDV\"], K=3)\n",
    "\n",
    "\"\"\"\n",
    "\n",
    "#See problem 3.2 for detailed coding of the following knn function\n",
    "\n",
    "#def knn(testing_data, training_data, L, K=1):\n",
    "#    start_time = time.time()\n",
    "#    predict_medv = []\n",
    "#    actual_medv = []\n",
    "#    for i in range(len(testing_data)):\n",
    "#        current_test = testing_data[i]\n",
    "#        distances = []\n",
    "#        for j in range(len(training_data)):\n",
    "#            current_train = training_data[j]\n",
    "#            current_dist = distance(current_train, current_test, L)\n",
    "#            distances.append((current_train, current_dist))\n",
    "#        distances.sort(key=lambda x: x[1])\n",
    "#        k_nearest_dist = []\n",
    "#        for k in range(K):\n",
    "#            k_nearest_dist.append(distances[k][0][L])\n",
    "#        k_mean_dist = np.mean(k_nearest_dist)\n",
    "#        predict_medv.append(k_mean_dist)\n",
    "#        actual_medv.append(current_test[L])\n",
    "#    rmse = compute_rmse(predict_medv,actual_medv)\n",
    "#    print(\"Time taken: \" + str(round(time.time() - start_time,2)) + \" seconds\")\n",
    "#    return rmse\n",
    "\n",
    "#Use knn function nested within the my_kfolds function to run 10-fold cross-validation for the full boston housing dataframe.\n",
    "#Use CRIM and RM as the predicting features for the response feature MEDV. Use K=3 nearest neighbors for the prediction.\n",
    "nn_k_three = my_kfolds(boston_df, 10, [\"CRIM\",\"RM\",\"MEDV\"], K=3)\n",
    "print(\"RMSE of k-nearest neighbors with K=3: %.4f\" % (nn_k_three))"
   ]
  },
  {
   "cell_type": "markdown",
   "metadata": {},
   "source": [
    "### Using cross validation to find K\n",
    "\n",
    "Compute the RMSE for values of K between 1 and 25 using 10-fold cross-validation.  Determine reasonable value for K for the model."
   ]
  },
  {
   "cell_type": "code",
   "execution_count": 22,
   "metadata": {},
   "outputs": [
    {
     "name": "stdout",
     "output_type": "stream",
     "text": [
      "Time taken: 0.19 seconds\n",
      "Time taken: 0.23 seconds\n",
      "Time taken: 0.19 seconds\n",
      "Time taken: 0.18 seconds\n",
      "Time taken: 0.16 seconds\n",
      "Time taken: 0.16 seconds\n",
      "Time taken: 0.18 seconds\n",
      "Time taken: 0.16 seconds\n",
      "Time taken: 0.17 seconds\n",
      "Time taken: 0.16 seconds\n",
      "Time taken for all folds: 1.91 seconds\n",
      "Time taken: 0.28 seconds\n",
      "Time taken: 0.31 seconds\n",
      "Time taken: 0.29 seconds\n",
      "Time taken: 0.27 seconds\n",
      "Time taken: 0.26 seconds\n",
      "Time taken: 0.17 seconds\n",
      "Time taken: 0.17 seconds\n",
      "Time taken: 0.18 seconds\n",
      "Time taken: 0.19 seconds\n",
      "Time taken: 0.2 seconds\n",
      "Time taken for all folds: 2.51 seconds\n",
      "Time taken: 0.18 seconds\n",
      "Time taken: 0.38 seconds\n",
      "Time taken: 0.19 seconds\n",
      "Time taken: 0.18 seconds\n",
      "Time taken: 0.19 seconds\n",
      "Time taken: 0.2 seconds\n",
      "Time taken: 0.18 seconds\n",
      "Time taken: 0.2 seconds\n",
      "Time taken: 0.23 seconds\n",
      "Time taken: 0.19 seconds\n",
      "Time taken for all folds: 2.29 seconds\n",
      "Time taken: 0.19 seconds\n",
      "Time taken: 0.16 seconds\n",
      "Time taken: 0.16 seconds\n",
      "Time taken: 0.16 seconds\n",
      "Time taken: 0.16 seconds\n",
      "Time taken: 0.16 seconds\n",
      "Time taken: 0.16 seconds\n",
      "Time taken: 0.16 seconds\n",
      "Time taken: 0.16 seconds\n",
      "Time taken: 0.16 seconds\n",
      "Time taken for all folds: 1.77 seconds\n",
      "Time taken: 0.16 seconds\n",
      "Time taken: 0.16 seconds\n",
      "Time taken: 0.16 seconds\n",
      "Time taken: 0.15 seconds\n",
      "Time taken: 0.16 seconds\n",
      "Time taken: 0.16 seconds\n",
      "Time taken: 0.16 seconds\n",
      "Time taken: 0.16 seconds\n",
      "Time taken: 0.16 seconds\n",
      "Time taken: 0.16 seconds\n",
      "Time taken for all folds: 1.71 seconds\n",
      "Time taken: 0.16 seconds\n",
      "Time taken: 0.16 seconds\n",
      "Time taken: 0.16 seconds\n",
      "Time taken: 0.16 seconds\n",
      "Time taken: 0.16 seconds\n",
      "Time taken: 0.17 seconds\n",
      "Time taken: 0.16 seconds\n",
      "Time taken: 0.16 seconds\n",
      "Time taken: 0.16 seconds\n",
      "Time taken: 0.17 seconds\n",
      "Time taken for all folds: 1.74 seconds\n",
      "Time taken: 0.16 seconds\n",
      "Time taken: 0.15 seconds\n",
      "Time taken: 0.16 seconds\n",
      "Time taken: 0.17 seconds\n",
      "Time taken: 0.16 seconds\n",
      "Time taken: 0.16 seconds\n",
      "Time taken: 0.17 seconds\n",
      "Time taken: 0.17 seconds\n",
      "Time taken: 0.16 seconds\n",
      "Time taken: 0.16 seconds\n",
      "Time taken for all folds: 1.74 seconds\n",
      "Time taken: 0.16 seconds\n",
      "Time taken: 0.16 seconds\n",
      "Time taken: 0.16 seconds\n",
      "Time taken: 0.16 seconds\n",
      "Time taken: 0.16 seconds\n",
      "Time taken: 0.16 seconds\n",
      "Time taken: 0.16 seconds\n",
      "Time taken: 0.16 seconds\n",
      "Time taken: 0.16 seconds\n",
      "Time taken: 0.16 seconds\n",
      "Time taken for all folds: 1.72 seconds\n",
      "Time taken: 0.16 seconds\n",
      "Time taken: 0.16 seconds\n",
      "Time taken: 0.16 seconds\n",
      "Time taken: 0.16 seconds\n",
      "Time taken: 0.16 seconds\n",
      "Time taken: 0.16 seconds\n",
      "Time taken: 0.16 seconds\n",
      "Time taken: 0.16 seconds\n",
      "Time taken: 0.16 seconds\n",
      "Time taken: 0.16 seconds\n",
      "Time taken for all folds: 1.72 seconds\n",
      "Time taken: 0.16 seconds\n",
      "Time taken: 0.16 seconds\n",
      "Time taken: 0.16 seconds\n",
      "Time taken: 0.16 seconds\n",
      "Time taken: 0.16 seconds\n",
      "Time taken: 0.16 seconds\n",
      "Time taken: 0.16 seconds\n",
      "Time taken: 0.16 seconds\n",
      "Time taken: 0.17 seconds\n",
      "Time taken: 0.16 seconds\n",
      "Time taken for all folds: 1.74 seconds\n",
      "Time taken: 0.16 seconds\n",
      "Time taken: 0.16 seconds\n",
      "Time taken: 0.16 seconds\n",
      "Time taken: 0.16 seconds\n",
      "Time taken: 0.16 seconds\n",
      "Time taken: 0.16 seconds\n",
      "Time taken: 0.16 seconds\n",
      "Time taken: 0.18 seconds\n",
      "Time taken: 0.17 seconds\n",
      "Time taken: 0.16 seconds\n",
      "Time taken for all folds: 1.75 seconds\n",
      "Time taken: 0.16 seconds\n",
      "Time taken: 0.16 seconds\n",
      "Time taken: 0.16 seconds\n",
      "Time taken: 0.16 seconds\n",
      "Time taken: 0.16 seconds\n",
      "Time taken: 0.16 seconds\n",
      "Time taken: 0.16 seconds\n",
      "Time taken: 0.16 seconds\n",
      "Time taken: 0.16 seconds\n",
      "Time taken: 0.16 seconds\n",
      "Time taken for all folds: 1.72 seconds\n",
      "Time taken: 0.16 seconds\n",
      "Time taken: 0.16 seconds\n",
      "Time taken: 0.16 seconds\n",
      "Time taken: 0.16 seconds\n",
      "Time taken: 0.16 seconds\n",
      "Time taken: 0.16 seconds\n",
      "Time taken: 0.16 seconds\n",
      "Time taken: 0.16 seconds\n",
      "Time taken: 0.16 seconds\n",
      "Time taken: 0.16 seconds\n",
      "Time taken for all folds: 1.73 seconds\n",
      "Time taken: 0.16 seconds\n",
      "Time taken: 0.16 seconds\n",
      "Time taken: 0.16 seconds\n",
      "Time taken: 0.16 seconds\n",
      "Time taken: 0.16 seconds\n",
      "Time taken: 0.16 seconds\n",
      "Time taken: 0.16 seconds\n",
      "Time taken: 0.16 seconds\n",
      "Time taken: 0.16 seconds\n",
      "Time taken: 0.16 seconds\n",
      "Time taken for all folds: 1.72 seconds\n",
      "Time taken: 0.16 seconds\n",
      "Time taken: 0.16 seconds\n",
      "Time taken: 0.17 seconds\n",
      "Time taken: 0.15 seconds\n",
      "Time taken: 0.17 seconds\n",
      "Time taken: 0.16 seconds\n",
      "Time taken: 0.16 seconds\n",
      "Time taken: 0.16 seconds\n",
      "Time taken: 0.17 seconds\n",
      "Time taken: 0.16 seconds\n",
      "Time taken for all folds: 1.76 seconds\n",
      "Time taken: 0.16 seconds\n",
      "Time taken: 0.16 seconds\n",
      "Time taken: 0.16 seconds\n",
      "Time taken: 0.16 seconds\n",
      "Time taken: 0.16 seconds\n",
      "Time taken: 0.16 seconds\n",
      "Time taken: 0.16 seconds\n",
      "Time taken: 0.16 seconds\n",
      "Time taken: 0.16 seconds\n",
      "Time taken: 0.16 seconds\n",
      "Time taken for all folds: 1.73 seconds\n",
      "Time taken: 0.16 seconds\n",
      "Time taken: 0.16 seconds\n",
      "Time taken: 0.16 seconds\n",
      "Time taken: 0.16 seconds\n",
      "Time taken: 0.16 seconds\n",
      "Time taken: 0.16 seconds\n",
      "Time taken: 0.16 seconds\n",
      "Time taken: 0.16 seconds\n",
      "Time taken: 0.16 seconds\n",
      "Time taken: 0.16 seconds\n",
      "Time taken for all folds: 1.73 seconds\n",
      "Time taken: 0.16 seconds\n",
      "Time taken: 0.16 seconds\n",
      "Time taken: 0.16 seconds\n",
      "Time taken: 0.16 seconds\n",
      "Time taken: 0.16 seconds\n",
      "Time taken: 0.16 seconds\n",
      "Time taken: 0.16 seconds\n",
      "Time taken: 0.16 seconds\n",
      "Time taken: 0.16 seconds\n",
      "Time taken: 0.16 seconds\n",
      "Time taken for all folds: 1.73 seconds\n",
      "Time taken: 0.16 seconds\n",
      "Time taken: 0.16 seconds\n",
      "Time taken: 0.16 seconds\n",
      "Time taken: 0.16 seconds\n",
      "Time taken: 0.16 seconds\n",
      "Time taken: 0.16 seconds\n",
      "Time taken: 0.16 seconds\n",
      "Time taken: 0.16 seconds\n",
      "Time taken: 0.17 seconds\n",
      "Time taken: 0.17 seconds\n",
      "Time taken for all folds: 1.74 seconds\n",
      "Time taken: 0.17 seconds\n",
      "Time taken: 0.16 seconds\n",
      "Time taken: 0.16 seconds\n",
      "Time taken: 0.16 seconds\n",
      "Time taken: 0.16 seconds\n",
      "Time taken: 0.16 seconds\n",
      "Time taken: 0.16 seconds\n",
      "Time taken: 0.16 seconds\n",
      "Time taken: 0.16 seconds\n",
      "Time taken: 0.16 seconds\n",
      "Time taken for all folds: 1.74 seconds\n",
      "Time taken: 0.16 seconds\n",
      "Time taken: 0.16 seconds\n",
      "Time taken: 0.16 seconds\n",
      "Time taken: 0.16 seconds\n",
      "Time taken: 0.16 seconds\n",
      "Time taken: 0.16 seconds\n",
      "Time taken: 0.16 seconds\n",
      "Time taken: 0.16 seconds\n",
      "Time taken: 0.16 seconds\n",
      "Time taken: 0.16 seconds\n",
      "Time taken for all folds: 1.71 seconds\n",
      "Time taken: 0.16 seconds\n",
      "Time taken: 0.16 seconds\n",
      "Time taken: 0.17 seconds\n",
      "Time taken: 0.17 seconds\n",
      "Time taken: 0.16 seconds\n",
      "Time taken: 0.16 seconds\n",
      "Time taken: 0.16 seconds\n",
      "Time taken: 0.16 seconds\n",
      "Time taken: 0.16 seconds\n",
      "Time taken: 0.16 seconds\n",
      "Time taken for all folds: 1.73 seconds\n",
      "Time taken: 0.16 seconds\n",
      "Time taken: 0.16 seconds\n",
      "Time taken: 0.16 seconds\n",
      "Time taken: 0.16 seconds\n",
      "Time taken: 0.16 seconds\n",
      "Time taken: 0.16 seconds\n",
      "Time taken: 0.16 seconds\n",
      "Time taken: 0.16 seconds\n",
      "Time taken: 0.17 seconds\n",
      "Time taken: 0.17 seconds\n",
      "Time taken for all folds: 1.74 seconds\n",
      "Time taken: 0.16 seconds\n",
      "Time taken: 0.16 seconds\n",
      "Time taken: 0.16 seconds\n",
      "Time taken: 0.16 seconds\n",
      "Time taken: 0.16 seconds\n",
      "Time taken: 0.16 seconds\n",
      "Time taken: 0.16 seconds\n",
      "Time taken: 0.16 seconds\n",
      "Time taken: 0.16 seconds\n",
      "Time taken: 0.16 seconds\n",
      "Time taken for all folds: 1.72 seconds\n",
      "Time taken: 0.16 seconds\n",
      "Time taken: 0.16 seconds\n",
      "Time taken: 0.16 seconds\n",
      "Time taken: 0.16 seconds\n",
      "Time taken: 0.16 seconds\n",
      "Time taken: 0.16 seconds\n",
      "Time taken: 0.16 seconds\n",
      "Time taken: 0.16 seconds\n",
      "Time taken: 0.16 seconds\n",
      "Time taken: 0.15 seconds\n",
      "Time taken for all folds: 1.72 seconds\n",
      "Total time taken for all folds using K=1,2,...,25 nearest neighbors: 44.83 seconds\n"
     ]
    }
   ],
   "source": [
    "#Set values for minimum and maximum number of neighbors K. \n",
    "K_min = 1\n",
    "K_max = 25\n",
    "\n",
    "#Set predicting features and MEDV as response\n",
    "feats = [\"CRIM\",\"ZN\",\"RM\",\"AGE\",\"DIS\",\"TAX\",\"MEDV\"]\n",
    "\n",
    "#Run 10-fold cross-validation for K=1,2,...,25 neighbors\n",
    "np.random.seed(seed=13579)\n",
    "nn_K = []\n",
    "total_start_time = time.time()\n",
    "for i in range(K_min, K_max+1):\n",
    "    current_knn = my_kfolds(boston_df, 10, feats, K=i)\n",
    "    nn_K.append(current_knn)\n",
    "print(\"Total time taken for all folds using K=1,2,...,25 nearest neighbors: \" + str(round(time.time() - total_start_time,2)) + \" seconds\")"
   ]
  },
  {
   "cell_type": "code",
   "execution_count": 23,
   "metadata": {},
   "outputs": [
    {
     "data": {
      "image/png": "[encoded data removed]",
      "text/plain": [
       "<matplotlib.figure.Figure at 0x1d5537bab00>"
      ]
     },
     "metadata": {},
     "output_type": "display_data"
    }
   ],
   "source": [
    "#Plot a line showing the calculated average RMSE for 10-fold cross-validation for the model.\n",
    "#Predicting features [\"CRIM\",\"ZN\",\"RM\",\"AGE\",\"DIS\",\"TAX\"] used for \n",
    "#Predicted response [\"MEDV\"]\n",
    "\n",
    "#Assign K_values as a sequence from 1 to 25 for the plot's x-axis.\n",
    "K_values = np.arange(K_min, K_max+1)\n",
    "\n",
    "#Find K with largest and smallest RMSE for plot\n",
    "max_knn_RMSE = -1\n",
    "min_knn_RMSE = 10000\n",
    "max_knn_K = 0\n",
    "min_knn_K = 0\n",
    "for i in range(len(nn_K)):\n",
    "    if nn_K[i] > max_knn_RMSE:\n",
    "        max_knn_RMSE = nn_K[i]\n",
    "        max_knn_K = i+1\n",
    "    if nn_K[i] < min_knn_RMSE:\n",
    "        min_knn_RMSE = nn_K[i]\n",
    "        min_knn_K = i+1\n",
    "\n",
    "#Create plot space, and draw the trend line\n",
    "ax3 = plt.subplot(111)\n",
    "ax3.plot(K_values, nn_K, linewidth=2)\n",
    "\n",
    "#Add horizontal lines to highlight the maximum and minimum average RMSEs\n",
    "ax3.axhline(y=max_knn_RMSE, ls=\"--\", c=\"red\")\n",
    "ax3.axhline(y=min_knn_RMSE, ls=\"--\", c=\"green\")\n",
    "\n",
    "#Add text for the (K,avg_rmse) pairs corresponding to the minimum and maximum average RMSEs\n",
    "ax3.text(x=max_knn_K, y=max_knn_RMSE+0.05, s=\"(K=%i,RMSE=%.4f)\" % (max_knn_K,max_knn_RMSE), fontsize=10)\n",
    "ax3.text(x=min_knn_K, y=min_knn_RMSE-0.1, s=\"(K=%i,RMSE=%.4f)\" % (min_knn_K,min_knn_RMSE), fontsize=10)\n",
    "\n",
    "#Set wider bounds for y-axis\n",
    "\n",
    "ax3.set_ybound(4.5,6.5)\n",
    "\n",
    "#Get rid of axes and tick marks on top and right\n",
    "ax3.spines[\"right\"].set_visible(False)\n",
    "ax3.spines[\"top\"].set_visible(False)\n",
    "ax3.yaxis.set_ticks_position(\"left\")\n",
    "ax3.xaxis.set_ticks_position(\"bottom\")\n",
    "\n",
    "#Add title, xlabels, and ylabels\n",
    "plt.title(\"RMSE vs. K Neighbors\")\n",
    "plt.xlabel(\"Number of Neighbors (K)\")\n",
    "plt.ylabel(\"Average RMSE\")\n",
    "\n",
    "#Show Plot\n",
    "plt.show()"
   ]
  },
  {
   "cell_type": "markdown",
   "metadata": {},
   "source": [
    "The plot above will vary depending on the randomization that occurs during cross-validation. However, the maximum average RMSE corresponded with K=1 for each of my test runs—indicating that K=1 neighbor isn't enough to produce the optimal model for predicting median home values (using the six given predicting features).\n",
    "\n",
    "Over many tests, I found the plot's minimum corresponded with a relatively flat section occurring betweeen K=2 and K=8. As K increases beyond this range, the average RMSE always increased—likely due to overfitting after performing cross-validation. \n",
    "\n",
    "I would opt for using K=5 neighbors to reach a reasonably minimized RMSE within the \"flat section\" while simultaneously minimizing the risk of overfitting."
   ]
  }
 ],
 "metadata": {
  "anaconda-cloud": {},
  "kernelspec": {
   "display_name": "Python 3",
   "language": "python",
   "name": "python3"
  },
  "language_info": {
   "codemirror_mode": {
    "name": "ipython",
    "version": 3
   },
   "file_extension": ".py",
   "mimetype": "text/x-python",
   "name": "python",
   "nbconvert_exporter": "python",
   "pygments_lexer": "ipython3",
   "version": "3.6.4"
  }
 },
 "nbformat": 4,
 "nbformat_minor": 1
}
